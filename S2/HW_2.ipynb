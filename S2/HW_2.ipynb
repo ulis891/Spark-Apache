{
  "nbformat": 4,
  "nbformat_minor": 0,
  "metadata": {
    "colab": {
      "provenance": []
    },
    "kernelspec": {
      "name": "python3",
      "display_name": "Python 3"
    },
    "language_info": {
      "name": "python"
    }
  },
  "cells": [
    {
      "cell_type": "markdown",
      "source": [
        "Условие: дана таблица с колонками (id, name, salary, managerId), студентам необходимо написать код на spark, который создаст эту таблицу (данные указаны ниже) и в результате выдаст таблицу в которой будут имена сотрудников, которые зарабатывают больше своих менеджеров.\n",
        "Данные для таблицы:\n",
        "\n",
        "data = {'id': [1, 2, 3, 4], 'Name': ['Joe', 'Henry', 'Sam', 'Max'],\n",
        "        'Salary':['70', '80', '60', '90'], 'ManagerId':['3', '4', 'Null', 'Null']}\n",
        "        "
      ],
      "metadata": {
        "id": "xt66fN8puuLl"
      }
    },
    {
      "cell_type": "code",
      "execution_count": 1,
      "metadata": {
        "id": "yt5onGTRO-Kk"
      },
      "outputs": [],
      "source": [
        "#Устанавливаем pySpark\n",
        "!pip install pyspark >> None"
      ]
    },
    {
      "cell_type": "code",
      "source": [
        "import pyspark\n",
        "from pyspark.sql import SparkSession\n",
        "from pyspark.sql.functions import sum, avg, when, max, month\n",
        "from pyspark.sql.functions import countDistinct\n",
        "from pyspark.sql import functions as F\n",
        "import pandas as pd\n",
        "from pyspark.sql import Row"
      ],
      "metadata": {
        "id": "flopQq_9PGZa"
      },
      "execution_count": 73,
      "outputs": []
    },
    {
      "cell_type": "code",
      "source": [
        "# Создание Spark сессии\n",
        "spark = SparkSession.builder.appName(\"Employees\").getOrCreate()\n",
        "\n",
        "# Создание DataFrame\n",
        "data = [(1, \"Joe\", \"70\", \"3\"),\n",
        "        (2, \"Henry\", \"80\", \"4\"),\n",
        "        (3, \"Sam\", \"60\", \"None\"),\n",
        "        (4, \"Max\", \"90\", \"None\")]\n",
        "\n",
        "df = spark.createDataFrame(data, ['id',\t\"Name\",\t\"Salary\", \"ManagerId\"])\n",
        "\n",
        "# Преобразование типов\n",
        "df = df.withColumn(\"Salary\", df[\"Salary\"].cast(\"int\"))\n",
        "df = df.withColumn(\"ManagerId\", df[\"ManagerId\"].cast(\"int\"))\n",
        "\n",
        "df.show()"
      ],
      "metadata": {
        "colab": {
          "base_uri": "https://localhost:8080/"
        },
        "id": "ehxHyxMTPdUi",
        "outputId": "c146bc5a-4b80-4a41-b00e-56d83b778c75"
      },
      "execution_count": 123,
      "outputs": [
        {
          "output_type": "stream",
          "name": "stdout",
          "text": [
            "+---+-----+------+---------+\n",
            "| id| Name|Salary|ManagerId|\n",
            "+---+-----+------+---------+\n",
            "|  1|  Joe|    70|        3|\n",
            "|  2|Henry|    80|        4|\n",
            "|  3|  Sam|    60|     NULL|\n",
            "|  4|  Max|    90|     NULL|\n",
            "+---+-----+------+---------+\n",
            "\n"
          ]
        }
      ]
    },
    {
      "cell_type": "code",
      "source": [
        "# разделяем таблицу на работников и менеджеров\n",
        "emp_df = df.filter(df.ManagerId.isNotNull())\n",
        "man_df = df.filter(df.ManagerId.isNull()).drop('ManagerId').withColumnRenamed('Salary', 'man_Salary').withColumnRenamed('Name', 'man_Name')\n",
        "emp_df.show()\n",
        "man_df.show()\n"
      ],
      "metadata": {
        "colab": {
          "base_uri": "https://localhost:8080/"
        },
        "id": "-IfPV6jIVKJr",
        "outputId": "19d1ebb4-6eb5-41dc-c289-fe75909eb189"
      },
      "execution_count": 124,
      "outputs": [
        {
          "output_type": "stream",
          "name": "stdout",
          "text": [
            "+---+-----+------+---------+\n",
            "| id| Name|Salary|ManagerId|\n",
            "+---+-----+------+---------+\n",
            "|  1|  Joe|    70|        3|\n",
            "|  2|Henry|    80|        4|\n",
            "+---+-----+------+---------+\n",
            "\n",
            "+---+--------+----------+\n",
            "| id|man_Name|man_Salary|\n",
            "+---+--------+----------+\n",
            "|  3|     Sam|        60|\n",
            "|  4|     Max|        90|\n",
            "+---+--------+----------+\n",
            "\n"
          ]
        }
      ]
    },
    {
      "cell_type": "code",
      "source": [
        "# объединяем таблици\n",
        "df = emp_df.join(man_df, emp_df.ManagerId == man_df.id)\n",
        "df.show()"
      ],
      "metadata": {
        "colab": {
          "base_uri": "https://localhost:8080/"
        },
        "id": "pWz5BGWRkPjh",
        "outputId": "94d639c3-1708-47ae-de3a-0fd37774348d"
      },
      "execution_count": 128,
      "outputs": [
        {
          "output_type": "stream",
          "name": "stdout",
          "text": [
            "+---+-----+------+---------+---+--------+----------+\n",
            "| id| Name|Salary|ManagerId| id|man_Name|man_Salary|\n",
            "+---+-----+------+---------+---+--------+----------+\n",
            "|  1|  Joe|    70|        3|  3|     Sam|        60|\n",
            "|  2|Henry|    80|        4|  4|     Max|        90|\n",
            "+---+-----+------+---------+---+--------+----------+\n",
            "\n"
          ]
        }
      ]
    },
    {
      "cell_type": "code",
      "source": [
        "# отфильтровываем результат\n",
        "res = df.select(df['Name']).filter(df.Salary > df.man_Salary)\n",
        "res.show()"
      ],
      "metadata": {
        "colab": {
          "base_uri": "https://localhost:8080/"
        },
        "id": "Zf5Tm1jStGIG",
        "outputId": "17abc77f-3398-4a84-b181-62f86d04e26b"
      },
      "execution_count": 129,
      "outputs": [
        {
          "output_type": "stream",
          "name": "stdout",
          "text": [
            "+----+\n",
            "|Name|\n",
            "+----+\n",
            "| Joe|\n",
            "+----+\n",
            "\n"
          ]
        }
      ]
    }
  ]
}