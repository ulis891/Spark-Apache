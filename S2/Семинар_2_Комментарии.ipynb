{
  "nbformat": 4,
  "nbformat_minor": 0,
  "metadata": {
    "colab": {
      "provenance": [],
      "toc_visible": true
    },
    "kernelspec": {
      "name": "python3",
      "display_name": "Python 3"
    },
    "language_info": {
      "name": "python"
    }
  },
  "cells": [
    {
      "cell_type": "code",
      "source": [
        "#Устанавливаем pySpark\n",
        "!pip install pyspark >> None"
      ],
      "metadata": {
        "colab": {
          "base_uri": "https://localhost:8080/"
        },
        "id": "u9_i1TqpZGR1",
        "outputId": "be61bc92-ddcd-4819-fc92-1ae1db0a9c02"
      },
      "execution_count": null,
      "outputs": [
        {
          "output_type": "stream",
          "name": "stdout",
          "text": [
            "Collecting pyspark\n",
            "  Downloading pyspark-3.5.1.tar.gz (317.0 MB)\n",
            "\u001b[2K     \u001b[90m━━━━━━━━━━━━━━━━━━━━━━━━━━━━━━━━━━━━━━━━\u001b[0m \u001b[32m317.0/317.0 MB\u001b[0m \u001b[31m2.4 MB/s\u001b[0m eta \u001b[36m0:00:00\u001b[0m\n",
            "\u001b[?25h  Preparing metadata (setup.py) ... \u001b[?25l\u001b[?25hdone\n",
            "Requirement already satisfied: py4j==0.10.9.7 in /usr/local/lib/python3.10/dist-packages (from pyspark) (0.10.9.7)\n",
            "Building wheels for collected packages: pyspark\n",
            "  Building wheel for pyspark (setup.py) ... \u001b[?25l\u001b[?25hdone\n",
            "  Created wheel for pyspark: filename=pyspark-3.5.1-py2.py3-none-any.whl size=317488491 sha256=01940f4900c576cf2b9d4020aacc0e554d79528a35c9b539fa6bf38b45820ea8\n",
            "  Stored in directory: /root/.cache/pip/wheels/80/1d/60/2c256ed38dddce2fdd93be545214a63e02fbd8d74fb0b7f3a6\n",
            "Successfully built pyspark\n",
            "Installing collected packages: pyspark\n",
            "Successfully installed pyspark-3.5.1\n"
          ]
        }
      ]
    },
    {
      "cell_type": "code",
      "source": [
        "import pyspark\n",
        "from pyspark.sql import SparkSession\n",
        "from pyspark.sql.functions import sum, avg, when, max, month\n",
        "from pyspark.sql.functions import countDistinct\n",
        "from pyspark.sql import functions as F\n",
        "import pandas as pd"
      ],
      "metadata": {
        "id": "2MHgjKWVtqTs"
      },
      "execution_count": 6,
      "outputs": []
    },
    {
      "cell_type": "code",
      "execution_count": null,
      "metadata": {
        "colab": {
          "base_uri": "https://localhost:8080/",
          "height": 356
        },
        "id": "naxU9VX0Y8xS",
        "outputId": "7ebfd579-284d-463f-bb20-6a9a6fce8f37"
      },
      "outputs": [
        {
          "output_type": "error",
          "ename": "AnalysisException",
          "evalue": "[PATH_NOT_FOUND] Path does not exist: file:/content/sales_data.csv.",
          "traceback": [
            "\u001b[0;31m---------------------------------------------------------------------------\u001b[0m",
            "\u001b[0;31mAnalysisException\u001b[0m                         Traceback (most recent call last)",
            "\u001b[0;32m<ipython-input-14-0dc0dbcbba69>\u001b[0m in \u001b[0;36m<cell line: 20>\u001b[0;34m()\u001b[0m\n\u001b[1;32m     18\u001b[0m     \u001b[0mInfer_schema\u001b[0m\u001b[0;34m=\u001b[0m\u001b[0;32mTrue\u001b[0m\u001b[0;34m:\u001b[0m \u001b[0mЭтот\u001b[0m \u001b[0mпараметр\u001b[0m \u001b[0mуказывает\u001b[0m \u001b[0mPySpark\u001b[0m \u001b[0mавтоматически\u001b[0m \u001b[0mопределять\u001b[0m \u001b[0mтипы\u001b[0m \u001b[0mданных\u001b[0m \u001b[0mстолбцов\u001b[0m \u001b[0mна\u001b[0m \u001b[0mоснове\u001b[0m \u001b[0mсодержимого\u001b[0m \u001b[0mфайла\u001b[0m\u001b[0;34m.\u001b[0m\u001b[0;34m\u001b[0m\u001b[0;34m\u001b[0m\u001b[0m\n\u001b[1;32m     19\u001b[0m '''\n\u001b[0;32m---> 20\u001b[0;31m \u001b[0mdf_pyspark\u001b[0m\u001b[0;34m=\u001b[0m\u001b[0mspark\u001b[0m\u001b[0;34m.\u001b[0m\u001b[0mread\u001b[0m\u001b[0;34m.\u001b[0m\u001b[0mload\u001b[0m\u001b[0;34m(\u001b[0m\u001b[0;34m'sales_data.csv'\u001b[0m\u001b[0;34m,\u001b[0m \u001b[0mformat\u001b[0m\u001b[0;34m=\u001b[0m\u001b[0;34m\"csv\"\u001b[0m\u001b[0;34m,\u001b[0m \u001b[0msep\u001b[0m\u001b[0;34m=\u001b[0m\u001b[0;34m\",\"\u001b[0m\u001b[0;34m,\u001b[0m \u001b[0mheader\u001b[0m\u001b[0;34m=\u001b[0m\u001b[0;34m\"true\"\u001b[0m\u001b[0;34m,\u001b[0m \u001b[0mInfer_schema\u001b[0m\u001b[0;34m=\u001b[0m\u001b[0;32mTrue\u001b[0m\u001b[0;34m)\u001b[0m\u001b[0;34m\u001b[0m\u001b[0;34m\u001b[0m\u001b[0m\n\u001b[0m\u001b[1;32m     21\u001b[0m \u001b[0;34m\u001b[0m\u001b[0m\n\u001b[1;32m     22\u001b[0m \u001b[0;31m#необходимые преобразования\u001b[0m\u001b[0;34m\u001b[0m\u001b[0;34m\u001b[0m\u001b[0m\n",
            "\u001b[0;32m/usr/local/lib/python3.10/dist-packages/pyspark/sql/readwriter.py\u001b[0m in \u001b[0;36mload\u001b[0;34m(self, path, format, schema, **options)\u001b[0m\n\u001b[1;32m    305\u001b[0m         \u001b[0mself\u001b[0m\u001b[0;34m.\u001b[0m\u001b[0moptions\u001b[0m\u001b[0;34m(\u001b[0m\u001b[0;34m**\u001b[0m\u001b[0moptions\u001b[0m\u001b[0;34m)\u001b[0m\u001b[0;34m\u001b[0m\u001b[0;34m\u001b[0m\u001b[0m\n\u001b[1;32m    306\u001b[0m         \u001b[0;32mif\u001b[0m \u001b[0misinstance\u001b[0m\u001b[0;34m(\u001b[0m\u001b[0mpath\u001b[0m\u001b[0;34m,\u001b[0m \u001b[0mstr\u001b[0m\u001b[0;34m)\u001b[0m\u001b[0;34m:\u001b[0m\u001b[0;34m\u001b[0m\u001b[0;34m\u001b[0m\u001b[0m\n\u001b[0;32m--> 307\u001b[0;31m             \u001b[0;32mreturn\u001b[0m \u001b[0mself\u001b[0m\u001b[0;34m.\u001b[0m\u001b[0m_df\u001b[0m\u001b[0;34m(\u001b[0m\u001b[0mself\u001b[0m\u001b[0;34m.\u001b[0m\u001b[0m_jreader\u001b[0m\u001b[0;34m.\u001b[0m\u001b[0mload\u001b[0m\u001b[0;34m(\u001b[0m\u001b[0mpath\u001b[0m\u001b[0;34m)\u001b[0m\u001b[0;34m)\u001b[0m\u001b[0;34m\u001b[0m\u001b[0;34m\u001b[0m\u001b[0m\n\u001b[0m\u001b[1;32m    308\u001b[0m         \u001b[0;32melif\u001b[0m \u001b[0mpath\u001b[0m \u001b[0;32mis\u001b[0m \u001b[0;32mnot\u001b[0m \u001b[0;32mNone\u001b[0m\u001b[0;34m:\u001b[0m\u001b[0;34m\u001b[0m\u001b[0;34m\u001b[0m\u001b[0m\n\u001b[1;32m    309\u001b[0m             \u001b[0;32mif\u001b[0m \u001b[0mtype\u001b[0m\u001b[0;34m(\u001b[0m\u001b[0mpath\u001b[0m\u001b[0;34m)\u001b[0m \u001b[0;34m!=\u001b[0m \u001b[0mlist\u001b[0m\u001b[0;34m:\u001b[0m\u001b[0;34m\u001b[0m\u001b[0;34m\u001b[0m\u001b[0m\n",
            "\u001b[0;32m/usr/local/lib/python3.10/dist-packages/py4j/java_gateway.py\u001b[0m in \u001b[0;36m__call__\u001b[0;34m(self, *args)\u001b[0m\n\u001b[1;32m   1320\u001b[0m \u001b[0;34m\u001b[0m\u001b[0m\n\u001b[1;32m   1321\u001b[0m         \u001b[0manswer\u001b[0m \u001b[0;34m=\u001b[0m \u001b[0mself\u001b[0m\u001b[0;34m.\u001b[0m\u001b[0mgateway_client\u001b[0m\u001b[0;34m.\u001b[0m\u001b[0msend_command\u001b[0m\u001b[0;34m(\u001b[0m\u001b[0mcommand\u001b[0m\u001b[0;34m)\u001b[0m\u001b[0;34m\u001b[0m\u001b[0;34m\u001b[0m\u001b[0m\n\u001b[0;32m-> 1322\u001b[0;31m         return_value = get_return_value(\n\u001b[0m\u001b[1;32m   1323\u001b[0m             answer, self.gateway_client, self.target_id, self.name)\n\u001b[1;32m   1324\u001b[0m \u001b[0;34m\u001b[0m\u001b[0m\n",
            "\u001b[0;32m/usr/local/lib/python3.10/dist-packages/pyspark/errors/exceptions/captured.py\u001b[0m in \u001b[0;36mdeco\u001b[0;34m(*a, **kw)\u001b[0m\n\u001b[1;32m    183\u001b[0m                 \u001b[0;31m# Hide where the exception came from that shows a non-Pythonic\u001b[0m\u001b[0;34m\u001b[0m\u001b[0;34m\u001b[0m\u001b[0m\n\u001b[1;32m    184\u001b[0m                 \u001b[0;31m# JVM exception message.\u001b[0m\u001b[0;34m\u001b[0m\u001b[0;34m\u001b[0m\u001b[0m\n\u001b[0;32m--> 185\u001b[0;31m                 \u001b[0;32mraise\u001b[0m \u001b[0mconverted\u001b[0m \u001b[0;32mfrom\u001b[0m \u001b[0;32mNone\u001b[0m\u001b[0;34m\u001b[0m\u001b[0;34m\u001b[0m\u001b[0m\n\u001b[0m\u001b[1;32m    186\u001b[0m             \u001b[0;32melse\u001b[0m\u001b[0;34m:\u001b[0m\u001b[0;34m\u001b[0m\u001b[0;34m\u001b[0m\u001b[0m\n\u001b[1;32m    187\u001b[0m                 \u001b[0;32mraise\u001b[0m\u001b[0;34m\u001b[0m\u001b[0;34m\u001b[0m\u001b[0m\n",
            "\u001b[0;31mAnalysisException\u001b[0m: [PATH_NOT_FOUND] Path does not exist: file:/content/sales_data.csv."
          ]
        }
      ],
      "source": [
        "#Создаем SparkSession\n",
        "spark=SparkSession.builder.appName('Practise').getOrCreate()\n",
        "\n",
        "#загружаем csv файл\n",
        "'''\n",
        "    spark.read.load: Это метод PySpark для чтения данных из файла. Он используется для загрузки данных в DataFrame.\n",
        "    'sales_data.csv': Это путь к файлу CSV, который вы хотите прочитать. В данном случае, файл называется sales_data.csv.\n",
        "    format=\"csv\": Указывает формат файла, который вы хотите прочитать. В данном случае, формат файла - CSV.\n",
        "    sep=\",\": Этот параметр определяет разделитель полей в CSV-файле. В данном случае, разделителем является запятая.\n",
        "    header=\"true\": Этот параметр указывает, что первая строка CSV-файла содержит имена столбцов.\n",
        "    Infer_schema=True: Этот параметр указывает PySpark автоматически определять типы данных столбцов на основе содержимого файла.\n",
        "'''\n",
        "df_pyspark=spark.read.load('sales_data.csv', format=\"csv\", sep=\",\", header=\"true\", Infer_schema=True)\n",
        "\n",
        "#необходимые преобразования\n",
        "'''\n",
        "Изменяем тип данных столбца `order_id` в DataFrame `df_pyspark` на целочисленный (`int`).\n",
        "Это достигается с помощью функции `withColumn()`, которая используется для добавления, замены или\n",
        "обновления столбцов в DataFrame. В данном случае, `withColumn()` применяется для изменения типа\n",
        "данных столбца `order_id` с использованием метода `cast()`, который принимает в качестве аргумента\n",
        "тип данных, на который нужно преобразовать столбец. В данном случае, тип данных для преобразования\n",
        "указан как `'int'`, что соответствует целочисленному типу данных в PySpark.\n",
        "\n",
        "Пример кода:\n",
        "```python\n",
        "df_pyspark = df_pyspark.withColumn(\"order_id\", df_pyspark[\"order_id\"].cast('int'))\n",
        "```\n",
        "Код создает новый DataFrame, в котором тип данных столбца `order_id` изменен на `int`, не\n",
        "изменяя исходный DataFrame `df_pyspark`. Функция `withColumn()` является трансформацией DataFrame,\n",
        "что означает, что она возвращает новый DataFrame с указанными изменениями, не изменяя исходный DataFrame.\n",
        "'''\n",
        "df_pyspark = df_pyspark.withColumn(\"order_id\", df_pyspark[\"order_id\"].cast('int'))\n",
        "df_pyspark = df_pyspark.withColumn(\"product_id\", df_pyspark[\"product_id\"].cast('int'))\n",
        "df_pyspark = df_pyspark.withColumn(\"customer_id\", df_pyspark[\"customer_id\"].cast('int'))\n",
        "df_pyspark = df_pyspark.withColumn(\"order_date\", df_pyspark[\"order_date\"].cast('date'))\n",
        "df_pyspark = df_pyspark.withColumn(\"quantity\", df_pyspark[\"quantity\"].cast('int'))\n",
        "df_pyspark = df_pyspark.withColumn(\"price_per_unit\", df_pyspark[\"price_per_unit\"].cast('int'))\n",
        "df_pyspark = df_pyspark.withColumn(\"total_price\", df_pyspark[\"total_price\"].cast('int'))\n",
        "\n",
        "#добавление колонки со значением месяца\n",
        "df_pyspark = df_pyspark.withColumn(\"order_month\", month(df_pyspark[\"order_date\"]))\n",
        "\n",
        "#нахождение нужных значений\n",
        "'''\n",
        "Выполняем агрегацию данных в DataFrame `df_pyspark` по столбцу `order_month`,\n",
        "используя функции `groupBy` и `agg` из PySpark. В результате получаем новый DataFrame\n",
        "`sales_analysis`, который содержит следующие агрегированные данные:\n",
        "\n",
        "- `total_sales`: сумма значений столбца `total_price` для каждого месяца.\n",
        "- `average_sales`: среднее значение столбца `total_price` для каждого месяца.\n",
        "- `max_sales`: максимальное значение столбца `total_price` для каждого месяца.\n",
        "\n",
        "Это позволяет анализировать продажи по месяцам, выявляя общую сумму продаж,\n",
        "среднюю сумму продаж и максимальную сумму продаж для каждого месяца.\n",
        "'''\n",
        "sales_analysis = df_pyspark.groupBy(\"order_month\").agg(\n",
        "                            sum(\"total_price\").alias(\"total_sales\"),\n",
        "                            avg(\"total_price\").alias(\"average_sales\"),\n",
        "                            max(\"total_price\").alias(\"max_sales\"))\n",
        "\n",
        "#вывод результата с сортировкой\n",
        "sales_analysis.orderBy('order_month').show()"
      ]
    },
    {
      "cell_type": "markdown",
      "source": [
        "### Задание 2: Вычислите количество товаров, купленных различными методами оплаты.\n"
      ],
      "metadata": {
        "id": "a-lirKpeZT1g"
      }
    },
    {
      "cell_type": "markdown",
      "source": [
        "Код выполняет агрегацию данных в DataFrame `df_pyspark` по столбцу `payment_method`, суммируя значения в столбце `quantity` для каждой группы и присваивая результату новое имя `num_of_sales`. В результате получается новый DataFrame `sales_analysis`, в котором каждая строка соответствует уникальному значению из столбца `payment_method`, а столбец\n",
        "`num_of_sales` содержит сумму значений `quantity` для каждой группы.\n",
        "\n",
        "- `groupBy(\"payment_method\")` группирует данные по столбцу `payment_method`, создавая группы для каждого уникального значения в этом столбце.\n",
        "- `agg(sum(\"quantity\").alias(\"num_of_sales\"))` применяет агрегационную функцию `sum` к столбцу `quantity` для каждой группы, суммируя значения `quantity` внутри каждой группы. Результат этой операции затем переименовывается в `num_of_sales` с помощью метода `alias`.\n",
        "\n",
        "Таким образом, код позволяет анализировать продажи по различным методам оплаты, суммируя количество продаж для каждого метода оплаты."
      ],
      "metadata": {
        "id": "syxKtruti038"
      }
    },
    {
      "cell_type": "code",
      "source": [
        "#нахождение нужных значениях\n",
        "sales_analysis = df_pyspark.groupBy(\"payment_method\").agg(sum(\"quantity\").alias(\"num_of_sales\"))\n",
        "\n",
        "#вывод результата\n",
        "sales_analysis.show()"
      ],
      "metadata": {
        "colab": {
          "base_uri": "https://localhost:8080/",
          "height": 211
        },
        "id": "LyOOjaMWZWSf",
        "outputId": "0166e35b-02ca-4acb-83c9-daeac3769e6e"
      },
      "execution_count": null,
      "outputs": [
        {
          "output_type": "error",
          "ename": "NameError",
          "evalue": "name 'df_pyspark' is not defined",
          "traceback": [
            "\u001b[0;31m---------------------------------------------------------------------------\u001b[0m",
            "\u001b[0;31mNameError\u001b[0m                                 Traceback (most recent call last)",
            "\u001b[0;32m<ipython-input-7-b2976d9a73a0>\u001b[0m in \u001b[0;36m<cell line: 7>\u001b[0;34m()\u001b[0m\n\u001b[1;32m      5\u001b[0m '''\n\u001b[1;32m      6\u001b[0m '''\n\u001b[0;32m----> 7\u001b[0;31m \u001b[0msales_analysis\u001b[0m \u001b[0;34m=\u001b[0m \u001b[0mdf_pyspark\u001b[0m\u001b[0;34m.\u001b[0m\u001b[0mgroupBy\u001b[0m\u001b[0;34m(\u001b[0m\u001b[0;34m\"payment_method\"\u001b[0m\u001b[0;34m)\u001b[0m\u001b[0;34m.\u001b[0m\u001b[0magg\u001b[0m\u001b[0;34m(\u001b[0m\u001b[0msum\u001b[0m\u001b[0;34m(\u001b[0m\u001b[0;34m\"quantity\"\u001b[0m\u001b[0;34m)\u001b[0m\u001b[0;34m.\u001b[0m\u001b[0malias\u001b[0m\u001b[0;34m(\u001b[0m\u001b[0;34m\"num_of_sales\"\u001b[0m\u001b[0;34m)\u001b[0m\u001b[0;34m)\u001b[0m\u001b[0;34m\u001b[0m\u001b[0;34m\u001b[0m\u001b[0m\n\u001b[0m\u001b[1;32m      8\u001b[0m \u001b[0;34m\u001b[0m\u001b[0m\n\u001b[1;32m      9\u001b[0m \u001b[0;31m#вывод результата\u001b[0m\u001b[0;34m\u001b[0m\u001b[0;34m\u001b[0m\u001b[0m\n",
            "\u001b[0;31mNameError\u001b[0m: name 'df_pyspark' is not defined"
          ]
        }
      ]
    },
    {
      "cell_type": "markdown",
      "source": [
        "----------------------------------------------------------"
      ],
      "metadata": {
        "id": "YN9WbJQiueVo"
      }
    },
    {
      "cell_type": "markdown",
      "source": [
        "### Задание 3: Найдите регион с самым большой суммарной стоимостью продаж\n"
      ],
      "metadata": {
        "id": "4ddxISE3Zcj9"
      }
    },
    {
      "cell_type": "markdown",
      "source": [
        "1. Группируем данные в DataFrame `df_pyspark` по столбцу `region`, а затем применяет агрегационную функцию `sum` к столбцу `total_price` для каждой группы. Результат этой операции переименовывается в `total_price_per_region`.\n",
        "2. Создаем новый DataFrame `sales_analysis`, содержащий сумму `total_price` для каждой уникальной `region`.\n",
        "3. Выбираем столбец `region` из DataFrame `sales_analysis`, сортирует его по убыванию значений `total_price_per_region` и выбирает первую запись.\n",
        "4. Выводим результат, который представляет собой регион с наибольшей суммой `total_price`.\n",
        "\n",
        "Таким образом, код анализирует продажи по регионам, суммирует общую стоимость продаж для каждого региона и определяет регион с наибольшей суммой продаж."
      ],
      "metadata": {
        "id": "tBUx9TzgfL_x"
      }
    },
    {
      "cell_type": "code",
      "source": [
        "#нахождение нужных значениях\n",
        "sales_analysis = df_pyspark.groupBy(\"region\").agg(\n",
        "    sum(\"total_price\").alias(\"total_price_per_region\")\n",
        ")\n",
        "total_price_per_region = sales_analysis.select(\"region\").orderBy(sales_analysis.total_price_per_region.desc()).first()\n",
        "\n",
        "#вывод результата\n",
        "print(*total_price_per_region)"
      ],
      "metadata": {
        "colab": {
          "base_uri": "https://localhost:8080/",
          "height": 211
        },
        "id": "8SzQa3f-Zd6P",
        "outputId": "a8285e1b-6a2e-4aec-bbef-ee3184315705"
      },
      "execution_count": null,
      "outputs": [
        {
          "output_type": "error",
          "ename": "NameError",
          "evalue": "name 'df_pyspark' is not defined",
          "traceback": [
            "\u001b[0;31m---------------------------------------------------------------------------\u001b[0m",
            "\u001b[0;31mNameError\u001b[0m                                 Traceback (most recent call last)",
            "\u001b[0;32m<ipython-input-8-5de0f4b0c63c>\u001b[0m in \u001b[0;36m<cell line: 5>\u001b[0;34m()\u001b[0m\n\u001b[1;32m      3\u001b[0m \u001b[0;34m\u001b[0m\u001b[0m\n\u001b[1;32m      4\u001b[0m \u001b[0;31m#нахождение нужных значениях\u001b[0m\u001b[0;34m\u001b[0m\u001b[0;34m\u001b[0m\u001b[0m\n\u001b[0;32m----> 5\u001b[0;31m sales_analysis = df_pyspark.groupBy(\"region\").agg(\n\u001b[0m\u001b[1;32m      6\u001b[0m     \u001b[0msum\u001b[0m\u001b[0;34m(\u001b[0m\u001b[0;34m\"total_price\"\u001b[0m\u001b[0;34m)\u001b[0m\u001b[0;34m.\u001b[0m\u001b[0malias\u001b[0m\u001b[0;34m(\u001b[0m\u001b[0;34m\"total_price_per_region\"\u001b[0m\u001b[0;34m)\u001b[0m\u001b[0;34m\u001b[0m\u001b[0;34m\u001b[0m\u001b[0m\n\u001b[1;32m      7\u001b[0m )\n",
            "\u001b[0;31mNameError\u001b[0m: name 'df_pyspark' is not defined"
          ]
        }
      ]
    },
    {
      "cell_type": "markdown",
      "source": [
        "--------------------------------------------------------------"
      ],
      "metadata": {
        "id": "eoxgAb7vumEL"
      }
    },
    {
      "cell_type": "markdown",
      "source": [
        "### Задание 4: Вычислите общую сумму продаж и среднюю сумму продажи для каждого региона.\n"
      ],
      "metadata": {
        "id": "U5VwaTqpZieZ"
      }
    },
    {
      "cell_type": "markdown",
      "source": [
        "1. Группируем данные в DataFrame `df_pyspark` по столбцу `region`, а затем применяет агрегационные функции `sum` и `avg` к столбцу `total_price` для каждой группы. Результаты этих операций переименовываются в `total_price_per_region` и `avg_price_per_region` соответственно.\n",
        "2. Создаем новый DataFrame `sales_analysis`, содержащий сумму `total_price` и среднее значение `total_price` для каждой уникальной `region`.\n",
        "3. Выводим результаты из DataFrame `sales_analysis` с помощью метода `show()`, который отображает содержимое DataFrame в консоли.\n",
        "\n",
        "Таким образом, код анализирует продажи по регионам, суммирует общую стоимость продаж и вычисляет среднюю стоимость продаж для каждого региона. Это позволяет получить общую картину продаж по регионам, включая как общую стоимость продаж, так и среднюю стоимость продаж в каждом регионе."
      ],
      "metadata": {
        "id": "XGXeHTG5fU5X"
      }
    },
    {
      "cell_type": "code",
      "source": [
        "#нахождение нужных значениях\n",
        "sales_analysis = df_pyspark.groupBy(\"region\").agg(\n",
        "    sum(\"total_price\").alias(\"total_price_per_region\"),\n",
        "    avg(\"total_price\").alias(\"avg_price_per_region\")\n",
        ")\n",
        "#вывод результата\n",
        "sales_analysis.show()"
      ],
      "metadata": {
        "colab": {
          "base_uri": "https://localhost:8080/",
          "height": 211
        },
        "id": "TAR3SCC_ZirD",
        "outputId": "add91204-f239-4c1c-c11b-6013598e4a76"
      },
      "execution_count": null,
      "outputs": [
        {
          "output_type": "error",
          "ename": "NameError",
          "evalue": "name 'df_pyspark' is not defined",
          "traceback": [
            "\u001b[0;31m---------------------------------------------------------------------------\u001b[0m",
            "\u001b[0;31mNameError\u001b[0m                                 Traceback (most recent call last)",
            "\u001b[0;32m<ipython-input-9-de714635a09a>\u001b[0m in \u001b[0;36m<cell line: 4>\u001b[0;34m()\u001b[0m\n\u001b[1;32m      2\u001b[0m \u001b[0;32mfrom\u001b[0m \u001b[0mpyspark\u001b[0m\u001b[0;34m.\u001b[0m\u001b[0msql\u001b[0m\u001b[0;34m.\u001b[0m\u001b[0mfunctions\u001b[0m \u001b[0;32mimport\u001b[0m \u001b[0msum\u001b[0m\u001b[0;34m,\u001b[0m \u001b[0mavg\u001b[0m\u001b[0;34m\u001b[0m\u001b[0;34m\u001b[0m\u001b[0m\n\u001b[1;32m      3\u001b[0m \u001b[0;31m#нахождение нужных значениях\u001b[0m\u001b[0;34m\u001b[0m\u001b[0;34m\u001b[0m\u001b[0m\n\u001b[0;32m----> 4\u001b[0;31m sales_analysis = df_pyspark.groupBy(\"region\").agg(\n\u001b[0m\u001b[1;32m      5\u001b[0m     \u001b[0msum\u001b[0m\u001b[0;34m(\u001b[0m\u001b[0;34m\"total_price\"\u001b[0m\u001b[0;34m)\u001b[0m\u001b[0;34m.\u001b[0m\u001b[0malias\u001b[0m\u001b[0;34m(\u001b[0m\u001b[0;34m\"total_price_per_region\"\u001b[0m\u001b[0;34m)\u001b[0m\u001b[0;34m,\u001b[0m\u001b[0;34m\u001b[0m\u001b[0;34m\u001b[0m\u001b[0m\n\u001b[1;32m      6\u001b[0m     \u001b[0mavg\u001b[0m\u001b[0;34m(\u001b[0m\u001b[0;34m\"total_price\"\u001b[0m\u001b[0;34m)\u001b[0m\u001b[0;34m.\u001b[0m\u001b[0malias\u001b[0m\u001b[0;34m(\u001b[0m\u001b[0;34m\"avg_price_per_region\"\u001b[0m\u001b[0;34m)\u001b[0m\u001b[0;34m\u001b[0m\u001b[0;34m\u001b[0m\u001b[0m\n",
            "\u001b[0;31mNameError\u001b[0m: name 'df_pyspark' is not defined"
          ]
        }
      ]
    },
    {
      "cell_type": "markdown",
      "source": [
        "-------------------------------------------------------------------------"
      ],
      "metadata": {
        "id": "NO37aDRFurog"
      }
    },
    {
      "cell_type": "markdown",
      "source": [
        "### Задание 5: Вычислите общее количество и сумму товаров, проданных за наличные в 2022 году.\n"
      ],
      "metadata": {
        "id": "hYUYfDqbZoUl"
      }
    },
    {
      "cell_type": "markdown",
      "source": [
        "1. Добавляем новую колонку `order_year` в DataFrame `df_pyspark`, используя функцию `year` для извлечения года из даты в колонке `order_date`.\n",
        "2. Фильтруем DataFrame `df_pyspark` по двум условиям: методу оплаты должен быть \"Наличные\" и год заказа должен быть 2022.\n",
        "3. Агрегируем данные, суммируя количество (`quantity`) и общую стоимость (`total_price`) для всех записей, удовлетворяющих условиям фильтрации. Результаты этих операций переименовываются в `total_quantity_2022` и `total_price_2022` соответственно.\n",
        "4. Создаем новый DataFrame `sales_analysis`, содержащий сумму количества и общую стоимость продаж за 2022 год, оплаченных наличными.\n",
        "5. Выводим результаты из DataFrame `sales_analysis` с помощью метода `show()`, который отображает содержимое DataFrame в консоли.\n",
        "\n",
        "Таким образом, код анализирует продажи, оплаченные наличными, за 2022 год, суммируя количество и общую стоимость продаж для этого периода."
      ],
      "metadata": {
        "id": "0S5XRpapfhDb"
      }
    },
    {
      "cell_type": "code",
      "source": [
        "#добавление колонки со значением года\n",
        "df_pyspark = df_pyspark.withColumn(\"order_year\", year(df_pyspark[\"order_date\"]))\n",
        "\n",
        "#нахождение нужных значений\n",
        "sales_analysis = df_pyspark.filter((df_pyspark.payment_method == \"Наличные\") & (df_pyspark.order_year == 2022)).agg(\n",
        "    sum(\"quantity\").alias(\"total_quantity_2022\"),\n",
        "    sum(\"total_price\").alias(\"total_price_2022\")\n",
        ")\n",
        "\n",
        "#вывод результата с сортировкой\n",
        "sales_analysis.show()"
      ],
      "metadata": {
        "colab": {
          "base_uri": "https://localhost:8080/",
          "height": 211
        },
        "id": "t1-mw38JZqmJ",
        "outputId": "fea05334-d091-4376-f947-4f0950b6b28f"
      },
      "execution_count": null,
      "outputs": [
        {
          "output_type": "error",
          "ename": "NameError",
          "evalue": "name 'df_pyspark' is not defined",
          "traceback": [
            "\u001b[0;31m---------------------------------------------------------------------------\u001b[0m",
            "\u001b[0;31mNameError\u001b[0m                                 Traceback (most recent call last)",
            "\u001b[0;32m<ipython-input-10-81177fd0acd8>\u001b[0m in \u001b[0;36m<cell line: 4>\u001b[0;34m()\u001b[0m\n\u001b[1;32m      2\u001b[0m \u001b[0;32mfrom\u001b[0m \u001b[0mpyspark\u001b[0m\u001b[0;34m.\u001b[0m\u001b[0msql\u001b[0m\u001b[0;34m.\u001b[0m\u001b[0mfunctions\u001b[0m \u001b[0;32mimport\u001b[0m \u001b[0msum\u001b[0m\u001b[0;34m,\u001b[0m \u001b[0myear\u001b[0m\u001b[0;34m\u001b[0m\u001b[0;34m\u001b[0m\u001b[0m\n\u001b[1;32m      3\u001b[0m \u001b[0;31m#добавление колонки со значением года\u001b[0m\u001b[0;34m\u001b[0m\u001b[0;34m\u001b[0m\u001b[0m\n\u001b[0;32m----> 4\u001b[0;31m \u001b[0mdf_pyspark\u001b[0m \u001b[0;34m=\u001b[0m \u001b[0mdf_pyspark\u001b[0m\u001b[0;34m.\u001b[0m\u001b[0mwithColumn\u001b[0m\u001b[0;34m(\u001b[0m\u001b[0;34m\"order_year\"\u001b[0m\u001b[0;34m,\u001b[0m \u001b[0myear\u001b[0m\u001b[0;34m(\u001b[0m\u001b[0mdf_pyspark\u001b[0m\u001b[0;34m[\u001b[0m\u001b[0;34m\"order_date\"\u001b[0m\u001b[0;34m]\u001b[0m\u001b[0;34m)\u001b[0m\u001b[0;34m)\u001b[0m\u001b[0;34m\u001b[0m\u001b[0;34m\u001b[0m\u001b[0m\n\u001b[0m\u001b[1;32m      5\u001b[0m \u001b[0;31m#нахождение нужных значений\u001b[0m\u001b[0;34m\u001b[0m\u001b[0;34m\u001b[0m\u001b[0m\n\u001b[1;32m      6\u001b[0m sales_analysis = df_pyspark.filter((df_pyspark.payment_method == \"Наличные\") & (df_pyspark.order_year == 2022)).agg(\n",
            "\u001b[0;31mNameError\u001b[0m: name 'df_pyspark' is not defined"
          ]
        }
      ]
    },
    {
      "cell_type": "markdown",
      "source": [
        "### Задание 6: Найдите уникальное количество покупателей за 2022 год\n"
      ],
      "metadata": {
        "id": "W43HjvgJZvDg"
      }
    },
    {
      "cell_type": "markdown",
      "source": [
        "1. Импортируем функцию `countDistinct` из модуля `pyspark.sql.functions`. Эта функция используется для подсчета уникальных значений в определенных столбцах DataFrame.\n",
        "2. Фильтруем исходный DataFrame `df_pyspark`, оставляя только записи за 2022 год. Это делается с помощью метода `filter`, который принимает условие для фильтрации.\n",
        "3. Выбираем из отфильтрованного DataFrame количество уникальных значений в столбце `customer_id` с использованием функции `countDistinct`. Результат сохраняется в новом столбце с именем `unique_users` [1].\n",
        "4. Выводим результат на экран с помощью метода `show`. Этот метод отображает данные DataFrame в удобном для чтения формате.\n",
        "\n",
        "В итоге, код подсчитывает количество уникальных клиентов (`customer_id`), совершивших покупки в 2022 году, и выводит это количество на экран."
      ],
      "metadata": {
        "id": "PGF3TaRrfp3x"
      }
    },
    {
      "cell_type": "code",
      "source": [
        "#нахождение нужных значений\n",
        "sales_analysis = df_pyspark.filter(df_pyspark.order_year == 2022)\n",
        "sales_analysis = sales_analysis.select(countDistinct(\"customer_id\").alias(\"unique_users\"))\n",
        "\n",
        "#вывод результата с сортировкой\n",
        "sales_analysis.show()"
      ],
      "metadata": {
        "id": "-z8hXbOIZwxB"
      },
      "execution_count": null,
      "outputs": []
    },
    {
      "cell_type": "markdown",
      "source": [
        "### Задание 7: Вам даны данные с информацией о стоимости продуктов в различных валютах. Ваша задача состоит в том, чтобы перевести все цены в доллары, используя текущие курсы валют. Однако у вас есть ограничение: для некоторых продуктов курс валюты неизвестен и их стоимость должна остаться в исходной валюте. (Для конвертации из EUR в USD нужно умножить на 1.2)\n"
      ],
      "metadata": {
        "id": "VMMf7s8_Z0u5"
      }
    },
    {
      "cell_type": "markdown",
      "source": [
        "1. Импортируем необходимые модули и функции из PySpark для работы с SparkSession и функцией `when` для условной логики.\n",
        "2. Создаем сессию Spark с именем приложения \"currency_conversion\". Это необходимо для работы с Spark и выполнения операций с данными.\n",
        "3. Загружаем данные в DataFrame `df` с помощью метода `createDataFrame`. Данные представляют собой список кортежей, где каждый кортеж содержит информацию о продукте: его идентификатор (`product_id`), цену (`price`) и валюту (`currency`).\n",
        "4. Добавляем новый столбец `price_usd` в DataFrame, который содержит цену продукта в долларах США. Для этого используется функция `when` для условного преобразования цены в зависимости от валюты:\n",
        "   - Если валюта равна \"USD\", цена остается без изменений.\n",
        "   - Если валюта равна \"EUR\", цена умножается на курс обмена 1.2 (примерный курс EUR/USD).\n",
        "   - Если валюта неизвестна, цена остается без изменений.\n",
        "5. Выводим результат на экран с помощью метода `show`. Это позволяет увидеть, как изменились цены после конвертации в доллары США.\n",
        "\n",
        "В итоге, код позволяет преобразовать цены продуктов из разных валют в доллары США, используя примерный курс обмена для EUR/USD."
      ],
      "metadata": {
        "id": "09iuWD2Kf0Nk"
      }
    },
    {
      "cell_type": "code",
      "source": [
        "# Создание сессии Spark\n",
        "spark = SparkSession.builder.appName(\"currency_conversion\").getOrCreate()\n",
        "\n",
        "# Загрузка датасета\n",
        "data = [(1, 100, \"USD\"),\n",
        "        (2, 200, \"EUR\"),\n",
        "        (3, 300, \"Unknown\"),\n",
        "        (4, 100, \"EUR\"),\n",
        "        (5, 200, \"EUR\"),\n",
        "        (6, 300, \"Unknown\"),\n",
        "        (7, 100, \"Unknown\"),\n",
        "        (8, 200, \"USD\"),\n",
        "        (9, 300, \"USD\")\n",
        "]\n",
        "df = spark.createDataFrame(data, [\"product_id\", \"price\", \"currency\"])\n",
        "\n",
        "# Добавление столбца с конвертированной ценой\n",
        "df = df.withColumn(\"price_usd\", when(df.currency == \"USD\", df.price)\n",
        "                                 .when(df.currency == \"EUR\", df.price * 1.2)  # Примерный курс EUR/USD = 1.2\n",
        "                             \t.otherwise(df.price))  # Если курс неизвестен, оставляем в исходной валюте\n",
        "\n",
        "# Вывод результата\n",
        "df.show()"
      ],
      "metadata": {
        "id": "Pa6-W5fOZ2h7"
      },
      "execution_count": null,
      "outputs": []
    },
    {
      "cell_type": "markdown",
      "source": [
        "### Задание 8: Допустим, есть два датасета: один содержит информацию о пользователях (user_id, name, age), а другой содержит информацию о покупках пользователей (user_id, product_id, date). Необходимо найти средний возраст пользователей, совершивших покупки.\n"
      ],
      "metadata": {
        "id": "XBdDk6HgZ8WL"
      }
    },
    {
      "cell_type": "markdown",
      "source": [
        "1. Инициализируем Spark сессию с именем приложения \"user_purchase_join\".\n",
        "2. Создаем два DataFrame: `users_df` и `purchases_df`. Первый содержит информацию о пользователях (ID, имя, возраст), второй - о покупках (ID пользователя, ID продукта, дата покупки).\n",
        "3. Выполняем операцию соединения (join) между этими двумя DataFrame по столбцу `user_id`. Это позволяет объединить информацию о пользователях и их покупках в одном DataFrame.\n",
        "4. Группируем результат по `user_id` и вычисляет средний возраст пользователей, которые совершили покупки.\n",
        "5. Выводим результат на экран.\n",
        "\n",
        "Основная цель кода - анализировать данные о покупках пользователей, вычисляя средний возраст пользователей, совершивших покупки. Это может быть полезно для анализа поведения пользователей и оптимизации маркетинговых стратегий."
      ],
      "metadata": {
        "id": "lXBhoxLQgJn9"
      }
    },
    {
      "cell_type": "code",
      "source": [
        "# Создаем Spark сессию\n",
        "spark = SparkSession.builder.appName(\"user_purchase_join\").getOrCreate()\n",
        "\n",
        "# Загружаем датасеты\n",
        "users_df = spark.createDataFrame([\n",
        "\t(1, \"Alice\", 25),\n",
        "\t(2, \"Bob\", 30),\n",
        "\t(3, \"Charlie\", 28),\n",
        "\t(4, \"John\", 56),\n",
        "\t(5, \"Alex\", 41),\n",
        "\t(6, \"Juliya\", 17)\n",
        "\n",
        "], [\"user_id\", \"name\", \"age\"])\n",
        "\n",
        "purchases_df = spark.createDataFrame([\n",
        "\t(1, 101, \"2022-01-01\"),\n",
        "\t(2, 102, \"2022-01-02\"),\n",
        "\t(3, 103, \"2022-01-03\"),\n",
        "\t(3, 104, \"2022-01-04\"),\n",
        "\t(6, 105, \"2022-01-05\")\n",
        "], [\"user_id\", \"product_id\", \"date\"])\n",
        "\n",
        "# Производим операцию join и вычисляем средний возраст\n",
        "result_df = users_df.join(purchases_df, \"user_id\").groupBy(\"user_id\").agg(avg(\"age\").alias(\"average_age\"))\n",
        "\n",
        "# Выводим результат\n",
        "result_df.show()"
      ],
      "metadata": {
        "id": "jektE8ZlZ8KH"
      },
      "execution_count": null,
      "outputs": []
    },
    {
      "cell_type": "markdown",
      "source": [
        "### Задание 9: У вас есть два набора данных. Первый набор содержит информацию о продуктах: id продукта, название, категория и цена. Второй набор содержит информацию о заказах: id заказа, id продукта, количество. Ваша задача — использовать PySpark для выполнения следующих шагов:\n",
        "\n",
        "1. Присоединить набор данных о продуктах к набору данных о заказах с помощью id продукта.\n",
        "3. Рассчитать общую стоимость каждого заказа, учитывая количество продуктов и их цену.\n",
        "4. Отфильтровать заказы, у которых общая стоимость больше 1000."
      ],
      "metadata": {
        "id": "Xl7gn6SlaECs"
      }
    },
    {
      "cell_type": "markdown",
      "source": [
        "1. Инициализируем сессию Spark с именем приложения \"aggregate-join-filter\".\n",
        "\n",
        "2. Создаем два DataFrame (`products_df` и `orders_df`) из предопределенных списков кортежей, представляющих данные о продуктах и заказах соответственно.\n",
        "\n",
        "3. Присоединяем DataFrame `orders_df` к DataFrame `products_df` по столбцу \"product_id\", используя внутреннее соединение (inner join) по умолчанию.\n",
        "\n",
        "4. Добавляем новый столбец \"total_cost\" в DataFrame `joined_df`, вычисляя общую стоимость каждого заказа как произведение количества товара на цену товара.\n",
        "\n",
        "5. Отфильтровываем заказы, у которых общая стоимость больше 1000, и сохраняет результат в DataFrame `filtered_orders_df`.\n",
        "\n",
        "6. Выводим результаты фильтрации на экран."
      ],
      "metadata": {
        "id": "JEDkVCHzgRvq"
      }
    },
    {
      "cell_type": "code",
      "source": [
        "# Создание сессии Spark\n",
        "spark = SparkSession.builder.appName(\"aggregate-join-filter\").getOrCreate()\n",
        "\n",
        "# Чтение наборов данных из CSV файлов\n",
        "data_produсts = [(1, \"product1\", \"category1\", 10.0),\n",
        "                (2, \"product2\", \"category2\", 15.0),\n",
        "                (3, \"product3\", \"category1\", 12.5),\n",
        "                (4, \"product4\", \"category3\", 20.0),\n",
        "                (5, \"product5\", \"category2\", 18.0),\n",
        "                (6, \"product6\", \"category3\", 25.0),\n",
        "                (7, \"product7\", \"category1\", 9.0),\n",
        "                (8, \"product8\", \"category2\", 16.0),\n",
        "                (9, \"product9\", \"category3\", 22.0),\n",
        "                (10, \"product10\", \"category1\", 11.5)]\n",
        "\n",
        "products_df = spark.createDataFrame(data_products, [“product_id”, “title”, “category”, “price”])\n",
        "\n",
        "data_orders = [(1, 1, 5),\n",
        "               (2, 3, 2),\n",
        "               (3, 2, 3),\n",
        "               (4, 5, 1),\n",
        "               (5, 4, 4),\n",
        "               (6, 7, 2),\n",
        "               (7, 6, 3),\n",
        "               (8, 8, 2),\n",
        "               (9, 10, 1),\n",
        "               (10, 9, 4)]\n",
        "\n",
        "orders_df = spark.createDataFrame(data_orders, [“order_id”, “product_id”, “quantity”])\n",
        "\n",
        "# Присоединение набора данных о продуктах к набору данных о заказах\n",
        "joined_df = orders_df.join(products_df, \"product_id\")\n",
        "\n",
        "# Расчет общей стоимости каждого заказа\n",
        "total_cost_df = joined_df.withColumn(\"total_cost\", F.col(\"quantity\") * F.col(\"price\"))\n",
        "\n",
        "# Отфильтрование заказов с общей стоимостью больше 1000\n",
        "filtered_orders_df = total_cost_df.filter(total_cost_df.total_cost > 1000)\n",
        "\n",
        "# Вывод результата\n",
        "filtered_orders_df.show()"
      ],
      "metadata": {
        "id": "aTdFqARAaMHl"
      },
      "execution_count": null,
      "outputs": []
    },
    {
      "cell_type": "markdown",
      "source": [
        "### Задание 10: Найти сумму чисел в колонке\n"
      ],
      "metadata": {
        "id": "vzvtUy16aTR2"
      }
    },
    {
      "cell_type": "markdown",
      "source": [
        "1. Создаем сессию Spark с именем приложения \"sum_example\".\n",
        "2. Создаем DataFrame с одним столбцом \"number\", содержащим числа от 1 до 4.\n",
        "3. Вычисляем сумму всех чисел в столбце \"number\" и выводит результат.\n",
        "\n",
        "Код использует функцию `sum` из модуля `pyspark.sql.functions`, которая является агрегатной функцией и возвращает сумму всех значений в указанном столбце. В данном случае, она применяется к столбцу \"number\" DataFrame `df` для вычисления общей суммы чисел в этом столбце. Результат вычисления суммы затем отображается с помощью метода `show()`."
      ],
      "metadata": {
        "id": "opFKR8vfgck2"
      }
    },
    {
      "cell_type": "code",
      "source": [
        "# Создание Spark сессии\n",
        "spark = SparkSession.builder.appName(\"sum_example\").getOrCreate()\n",
        "\n",
        "# Создание DataFrame\n",
        "data = [(1,), (2,), (3,), (4,)]\n",
        "df = spark.createDataFrame(data, [\"number\"])\n",
        "\n",
        "# Найти сумму чисел в колонке \"number\"\n",
        "sum_result = df.select(sum(\"number\")).show()"
      ],
      "metadata": {
        "colab": {
          "base_uri": "https://localhost:8080/"
        },
        "id": "0FSAMl7zaVh8",
        "outputId": "afe7cacd-154d-4e63-8423-9301e4898346"
      },
      "execution_count": null,
      "outputs": [
        {
          "output_type": "stream",
          "name": "stdout",
          "text": [
            "+-----------+\n",
            "|sum(number)|\n",
            "+-----------+\n",
            "|         10|\n",
            "+-----------+\n",
            "\n"
          ]
        }
      ]
    },
    {
      "cell_type": "markdown",
      "source": [
        "### Задание 11: Посчитать количество уникальных значений в колонке\n"
      ],
      "metadata": {
        "id": "OIr0GdK0aZai"
      }
    },
    {
      "cell_type": "markdown",
      "source": [
        "1. Импортируем необходимые модули из библиотеки PySpark для работы с Spark и функцией `countDistinct` для подсчета уникальных значений в DataFrame.\n",
        "2. Создаем экземпляр SparkSession с именем приложения \"count_distinct_example\". Это необходимо для инициализации Spark и подготовки среды для выполнения операций с данными.\n",
        "3. Создаем DataFrame с именем `df`, используя предоставленные данные. В данном случае, DataFrame содержит одну колонку \"name\" с именами \"Alice\", \"Bob\", \"Alice\" и \"Eve\".\n",
        "4. Выполняем подсчет количества уникальных значений в колонке \"name\" с помощью функции `countDistinct` и выводит результат на экран с помощью метода `show()`.\n",
        "\n",
        "В результате выполнения кода будет выведено количество уникальных имен в колонке \"name\", что в данном случае равно 3, так как имена \"Alice\" и \"Bob\" встречаются дважды, а \"Eve\" - один раз."
      ],
      "metadata": {
        "id": "D3APjuShgkTe"
      }
    },
    {
      "cell_type": "code",
      "source": [
        "# Создание Spark сессии\n",
        "spark = SparkSession.builder.appName(\"count_distinct_example\").getOrCreate()\n",
        "\n",
        "# Создание DataFrame\n",
        "data = [(\"Alice\",), (\"Bob\",), (\"Alice\",), (\"Eve\",)]\n",
        "df = spark.createDataFrame(data, [\"name\"])\n",
        "\n",
        "# Посчитать количество уникальных значений в колонке \"name\"\n",
        "count_result = df.select(countDistinct(\"name\")).show()"
      ],
      "metadata": {
        "id": "tThczq14aXrt"
      },
      "execution_count": null,
      "outputs": []
    },
    {
      "cell_type": "markdown",
      "source": [
        "### Задание 12: Выполнить фильтрацию данных по определенному условию\n"
      ],
      "metadata": {
        "id": "1RVVb3Fmafx5"
      }
    },
    {
      "cell_type": "markdown",
      "source": [
        "Данный код выполняет следующие действия:\n",
        "\n",
        "1. Импортируем класс `SparkSession` из модуля `pyspark.sql`, который необходим для создания сессии Spark.\n",
        "2. Создаем сессию Spark с именем приложения \"filter_example\".\n",
        "3. Создаем список кортежей `data`, содержащий пары имя-возраст.\n",
        "4. Создаем DataFrame `df` из списка `data`, указывая имена столбцов как \"name\" и \"age\".\n",
        "5. Фильтруем данные в DataFrame `df`, оставляя только те строки, где возраст меньше 30, и выводит результат на экран с помощью метода `show()`.\n",
        "\n",
        "Важно отметить, что метод `filter()` используется для фильтрации строк в DataFrame на основе заданного условия. В данном случае, условием является `df.age < 30`, что означает выборку строк, где значение в столбце \"age\" меньше 30. Результатом выполнения этого кода будет отображение на экране строк DataFrame, соответствующих этому условию."
      ],
      "metadata": {
        "id": "Zq9d0WFdgrqj"
      }
    },
    {
      "cell_type": "code",
      "source": [
        " # Создание Spark сессии\n",
        "spark = SparkSession.builder.appName(\"filter_example\").getOrCreate()\n",
        "\n",
        "# Создание DataFrame\n",
        "data = [(\"Alice\", 25), (\"Bob\", 30), (\"Eve\", 20), (\"Charlie\", 35)]\n",
        "df = spark.createDataFrame(data, [\"name\", \"age\"])\n",
        "\n",
        "# Выполнить фильтрацию данных по возрасту младше 30\n",
        "filtered_data = df.filter(df.age < 30).show()"
      ],
      "metadata": {
        "id": "7SC9wv6nah3i"
      },
      "execution_count": null,
      "outputs": []
    },
    {
      "cell_type": "markdown",
      "source": [
        "### Домашнее задание\n",
        "\n",
        "### Условие: дана таблица с колонками (id, name, salary, managerId), студентам необходимо написать код на spark, который создаст эту таблицу (данные указаны ниже) и в результате выдаст таблицу в которой будут имена сотрудников, которые зарабатывают больше своих менеджеров.\n",
        "\n",
        "Данные для таблицы:\n"
      ],
      "metadata": {
        "id": "6OAOCIkSamLp"
      }
    },
    {
      "cell_type": "code",
      "source": [
        "data = {'id': [1, 2, 3, 4], 'Name': ['Joe', 'Henry', 'Sam', 'Max'],\n",
        "        'Salary':['70', '80', '60', '90'], 'ManagerId':['3', '4', 'Null', 'Null']}\n",
        "df = pd.DataFrame(data)\n",
        "df"
      ],
      "metadata": {
        "colab": {
          "base_uri": "https://localhost:8080/",
          "height": 175
        },
        "id": "jU_wRNHbappb",
        "outputId": "4d15740a-47e0-485f-d5eb-28eeda130f66"
      },
      "execution_count": null,
      "outputs": [
        {
          "output_type": "execute_result",
          "data": {
            "text/plain": [
              "   id   Name Salary ManagerId\n",
              "0   1    Joe     70         3\n",
              "1   2  Henry     80         4\n",
              "2   3    Sam     60      Null\n",
              "3   4    Max     90      Null"
            ],
            "text/html": [
              "\n",
              "  <div id=\"df-4a9c1b17-c867-4665-8bcf-21d2c6a8ed4f\" class=\"colab-df-container\">\n",
              "    <div>\n",
              "<style scoped>\n",
              "    .dataframe tbody tr th:only-of-type {\n",
              "        vertical-align: middle;\n",
              "    }\n",
              "\n",
              "    .dataframe tbody tr th {\n",
              "        vertical-align: top;\n",
              "    }\n",
              "\n",
              "    .dataframe thead th {\n",
              "        text-align: right;\n",
              "    }\n",
              "</style>\n",
              "<table border=\"1\" class=\"dataframe\">\n",
              "  <thead>\n",
              "    <tr style=\"text-align: right;\">\n",
              "      <th></th>\n",
              "      <th>id</th>\n",
              "      <th>Name</th>\n",
              "      <th>Salary</th>\n",
              "      <th>ManagerId</th>\n",
              "    </tr>\n",
              "  </thead>\n",
              "  <tbody>\n",
              "    <tr>\n",
              "      <th>0</th>\n",
              "      <td>1</td>\n",
              "      <td>Joe</td>\n",
              "      <td>70</td>\n",
              "      <td>3</td>\n",
              "    </tr>\n",
              "    <tr>\n",
              "      <th>1</th>\n",
              "      <td>2</td>\n",
              "      <td>Henry</td>\n",
              "      <td>80</td>\n",
              "      <td>4</td>\n",
              "    </tr>\n",
              "    <tr>\n",
              "      <th>2</th>\n",
              "      <td>3</td>\n",
              "      <td>Sam</td>\n",
              "      <td>60</td>\n",
              "      <td>Null</td>\n",
              "    </tr>\n",
              "    <tr>\n",
              "      <th>3</th>\n",
              "      <td>4</td>\n",
              "      <td>Max</td>\n",
              "      <td>90</td>\n",
              "      <td>Null</td>\n",
              "    </tr>\n",
              "  </tbody>\n",
              "</table>\n",
              "</div>\n",
              "    <div class=\"colab-df-buttons\">\n",
              "\n",
              "  <div class=\"colab-df-container\">\n",
              "    <button class=\"colab-df-convert\" onclick=\"convertToInteractive('df-4a9c1b17-c867-4665-8bcf-21d2c6a8ed4f')\"\n",
              "            title=\"Convert this dataframe to an interactive table.\"\n",
              "            style=\"display:none;\">\n",
              "\n",
              "  <svg xmlns=\"http://www.w3.org/2000/svg\" height=\"24px\" viewBox=\"0 -960 960 960\">\n",
              "    <path d=\"M120-120v-720h720v720H120Zm60-500h600v-160H180v160Zm220 220h160v-160H400v160Zm0 220h160v-160H400v160ZM180-400h160v-160H180v160Zm440 0h160v-160H620v160ZM180-180h160v-160H180v160Zm440 0h160v-160H620v160Z\"/>\n",
              "  </svg>\n",
              "    </button>\n",
              "\n",
              "  <style>\n",
              "    .colab-df-container {\n",
              "      display:flex;\n",
              "      gap: 12px;\n",
              "    }\n",
              "\n",
              "    .colab-df-convert {\n",
              "      background-color: #E8F0FE;\n",
              "      border: none;\n",
              "      border-radius: 50%;\n",
              "      cursor: pointer;\n",
              "      display: none;\n",
              "      fill: #1967D2;\n",
              "      height: 32px;\n",
              "      padding: 0 0 0 0;\n",
              "      width: 32px;\n",
              "    }\n",
              "\n",
              "    .colab-df-convert:hover {\n",
              "      background-color: #E2EBFA;\n",
              "      box-shadow: 0px 1px 2px rgba(60, 64, 67, 0.3), 0px 1px 3px 1px rgba(60, 64, 67, 0.15);\n",
              "      fill: #174EA6;\n",
              "    }\n",
              "\n",
              "    .colab-df-buttons div {\n",
              "      margin-bottom: 4px;\n",
              "    }\n",
              "\n",
              "    [theme=dark] .colab-df-convert {\n",
              "      background-color: #3B4455;\n",
              "      fill: #D2E3FC;\n",
              "    }\n",
              "\n",
              "    [theme=dark] .colab-df-convert:hover {\n",
              "      background-color: #434B5C;\n",
              "      box-shadow: 0px 1px 3px 1px rgba(0, 0, 0, 0.15);\n",
              "      filter: drop-shadow(0px 1px 2px rgba(0, 0, 0, 0.3));\n",
              "      fill: #FFFFFF;\n",
              "    }\n",
              "  </style>\n",
              "\n",
              "    <script>\n",
              "      const buttonEl =\n",
              "        document.querySelector('#df-4a9c1b17-c867-4665-8bcf-21d2c6a8ed4f button.colab-df-convert');\n",
              "      buttonEl.style.display =\n",
              "        google.colab.kernel.accessAllowed ? 'block' : 'none';\n",
              "\n",
              "      async function convertToInteractive(key) {\n",
              "        const element = document.querySelector('#df-4a9c1b17-c867-4665-8bcf-21d2c6a8ed4f');\n",
              "        const dataTable =\n",
              "          await google.colab.kernel.invokeFunction('convertToInteractive',\n",
              "                                                    [key], {});\n",
              "        if (!dataTable) return;\n",
              "\n",
              "        const docLinkHtml = 'Like what you see? Visit the ' +\n",
              "          '<a target=\"_blank\" href=https://colab.research.google.com/notebooks/data_table.ipynb>data table notebook</a>'\n",
              "          + ' to learn more about interactive tables.';\n",
              "        element.innerHTML = '';\n",
              "        dataTable['output_type'] = 'display_data';\n",
              "        await google.colab.output.renderOutput(dataTable, element);\n",
              "        const docLink = document.createElement('div');\n",
              "        docLink.innerHTML = docLinkHtml;\n",
              "        element.appendChild(docLink);\n",
              "      }\n",
              "    </script>\n",
              "  </div>\n",
              "\n",
              "\n",
              "<div id=\"df-5e6f3206-190e-4a59-b3e9-10d3f1920f4a\">\n",
              "  <button class=\"colab-df-quickchart\" onclick=\"quickchart('df-5e6f3206-190e-4a59-b3e9-10d3f1920f4a')\"\n",
              "            title=\"Suggest charts\"\n",
              "            style=\"display:none;\">\n",
              "\n",
              "<svg xmlns=\"http://www.w3.org/2000/svg\" height=\"24px\"viewBox=\"0 0 24 24\"\n",
              "     width=\"24px\">\n",
              "    <g>\n",
              "        <path d=\"M19 3H5c-1.1 0-2 .9-2 2v14c0 1.1.9 2 2 2h14c1.1 0 2-.9 2-2V5c0-1.1-.9-2-2-2zM9 17H7v-7h2v7zm4 0h-2V7h2v10zm4 0h-2v-4h2v4z\"/>\n",
              "    </g>\n",
              "</svg>\n",
              "  </button>\n",
              "\n",
              "<style>\n",
              "  .colab-df-quickchart {\n",
              "      --bg-color: #E8F0FE;\n",
              "      --fill-color: #1967D2;\n",
              "      --hover-bg-color: #E2EBFA;\n",
              "      --hover-fill-color: #174EA6;\n",
              "      --disabled-fill-color: #AAA;\n",
              "      --disabled-bg-color: #DDD;\n",
              "  }\n",
              "\n",
              "  [theme=dark] .colab-df-quickchart {\n",
              "      --bg-color: #3B4455;\n",
              "      --fill-color: #D2E3FC;\n",
              "      --hover-bg-color: #434B5C;\n",
              "      --hover-fill-color: #FFFFFF;\n",
              "      --disabled-bg-color: #3B4455;\n",
              "      --disabled-fill-color: #666;\n",
              "  }\n",
              "\n",
              "  .colab-df-quickchart {\n",
              "    background-color: var(--bg-color);\n",
              "    border: none;\n",
              "    border-radius: 50%;\n",
              "    cursor: pointer;\n",
              "    display: none;\n",
              "    fill: var(--fill-color);\n",
              "    height: 32px;\n",
              "    padding: 0;\n",
              "    width: 32px;\n",
              "  }\n",
              "\n",
              "  .colab-df-quickchart:hover {\n",
              "    background-color: var(--hover-bg-color);\n",
              "    box-shadow: 0 1px 2px rgba(60, 64, 67, 0.3), 0 1px 3px 1px rgba(60, 64, 67, 0.15);\n",
              "    fill: var(--button-hover-fill-color);\n",
              "  }\n",
              "\n",
              "  .colab-df-quickchart-complete:disabled,\n",
              "  .colab-df-quickchart-complete:disabled:hover {\n",
              "    background-color: var(--disabled-bg-color);\n",
              "    fill: var(--disabled-fill-color);\n",
              "    box-shadow: none;\n",
              "  }\n",
              "\n",
              "  .colab-df-spinner {\n",
              "    border: 2px solid var(--fill-color);\n",
              "    border-color: transparent;\n",
              "    border-bottom-color: var(--fill-color);\n",
              "    animation:\n",
              "      spin 1s steps(1) infinite;\n",
              "  }\n",
              "\n",
              "  @keyframes spin {\n",
              "    0% {\n",
              "      border-color: transparent;\n",
              "      border-bottom-color: var(--fill-color);\n",
              "      border-left-color: var(--fill-color);\n",
              "    }\n",
              "    20% {\n",
              "      border-color: transparent;\n",
              "      border-left-color: var(--fill-color);\n",
              "      border-top-color: var(--fill-color);\n",
              "    }\n",
              "    30% {\n",
              "      border-color: transparent;\n",
              "      border-left-color: var(--fill-color);\n",
              "      border-top-color: var(--fill-color);\n",
              "      border-right-color: var(--fill-color);\n",
              "    }\n",
              "    40% {\n",
              "      border-color: transparent;\n",
              "      border-right-color: var(--fill-color);\n",
              "      border-top-color: var(--fill-color);\n",
              "    }\n",
              "    60% {\n",
              "      border-color: transparent;\n",
              "      border-right-color: var(--fill-color);\n",
              "    }\n",
              "    80% {\n",
              "      border-color: transparent;\n",
              "      border-right-color: var(--fill-color);\n",
              "      border-bottom-color: var(--fill-color);\n",
              "    }\n",
              "    90% {\n",
              "      border-color: transparent;\n",
              "      border-bottom-color: var(--fill-color);\n",
              "    }\n",
              "  }\n",
              "</style>\n",
              "\n",
              "  <script>\n",
              "    async function quickchart(key) {\n",
              "      const quickchartButtonEl =\n",
              "        document.querySelector('#' + key + ' button');\n",
              "      quickchartButtonEl.disabled = true;  // To prevent multiple clicks.\n",
              "      quickchartButtonEl.classList.add('colab-df-spinner');\n",
              "      try {\n",
              "        const charts = await google.colab.kernel.invokeFunction(\n",
              "            'suggestCharts', [key], {});\n",
              "      } catch (error) {\n",
              "        console.error('Error during call to suggestCharts:', error);\n",
              "      }\n",
              "      quickchartButtonEl.classList.remove('colab-df-spinner');\n",
              "      quickchartButtonEl.classList.add('colab-df-quickchart-complete');\n",
              "    }\n",
              "    (() => {\n",
              "      let quickchartButtonEl =\n",
              "        document.querySelector('#df-5e6f3206-190e-4a59-b3e9-10d3f1920f4a button');\n",
              "      quickchartButtonEl.style.display =\n",
              "        google.colab.kernel.accessAllowed ? 'block' : 'none';\n",
              "    })();\n",
              "  </script>\n",
              "</div>\n",
              "    </div>\n",
              "  </div>\n"
            ],
            "application/vnd.google.colaboratory.intrinsic+json": {
              "type": "dataframe",
              "variable_name": "df",
              "summary": "{\n  \"name\": \"df\",\n  \"rows\": 4,\n  \"fields\": [\n    {\n      \"column\": \"id\",\n      \"properties\": {\n        \"dtype\": \"number\",\n        \"std\": 1,\n        \"min\": 1,\n        \"max\": 4,\n        \"num_unique_values\": 4,\n        \"samples\": [\n          2,\n          4,\n          1\n        ],\n        \"semantic_type\": \"\",\n        \"description\": \"\"\n      }\n    },\n    {\n      \"column\": \"Name\",\n      \"properties\": {\n        \"dtype\": \"string\",\n        \"num_unique_values\": 4,\n        \"samples\": [\n          \"Henry\",\n          \"Max\",\n          \"Joe\"\n        ],\n        \"semantic_type\": \"\",\n        \"description\": \"\"\n      }\n    },\n    {\n      \"column\": \"Salary\",\n      \"properties\": {\n        \"dtype\": \"string\",\n        \"num_unique_values\": 4,\n        \"samples\": [\n          \"80\",\n          \"90\",\n          \"70\"\n        ],\n        \"semantic_type\": \"\",\n        \"description\": \"\"\n      }\n    },\n    {\n      \"column\": \"ManagerId\",\n      \"properties\": {\n        \"dtype\": \"string\",\n        \"num_unique_values\": 3,\n        \"samples\": [\n          \"3\",\n          \"4\",\n          \"Null\"\n        ],\n        \"semantic_type\": \"\",\n        \"description\": \"\"\n      }\n    }\n  ]\n}"
            }
          },
          "metadata": {},
          "execution_count": 5
        }
      ]
    },
    {
      "cell_type": "markdown",
      "source": [
        "Результат должен быть:\n",
        "Joe (табличка с одной строкой и одним столбцом со значением Joe)\n"
      ],
      "metadata": {
        "id": "kI8uR6Xpb7XI"
      }
    },
    {
      "cell_type": "code",
      "source": [
        "from pyspark.sql import SparkSession\n",
        "from pyspark.sql.window import Window\n",
        "from pyspark.sql.functions import avg\n",
        "\n",
        "spark = SparkSession.builder.appName(\"WindowFunctionExample\").getOrCreate()\n",
        "\n",
        "# Создание DataFrame\n",
        "data = [(\"A\", 1), (\"A\", 2), (\"A\", 3), (\"B\", 4), (\"B\", 5), (\"B\", 6)]\n",
        "df = spark.createDataFrame(data, [\"Group\", \"Value\"])\n",
        "\n",
        "# Определение окна для каждой группы\n",
        "windowSpec = Window.partitionBy(\"Group\").orderBy(\"Value\")\n",
        "\n",
        "# Вычисление скользящего среднего\n",
        "df = df.withColumn(\"MovingAverage\", avg(\"Value\").over(windowSpec.rowsBetween(-2, 0)))\n",
        "\n",
        "df.show()\n"
      ],
      "metadata": {
        "id": "2n8ZkW6pIOx4"
      },
      "execution_count": null,
      "outputs": []
    },
    {
      "cell_type": "code",
      "source": [
        "1/ Ранжирующие\n",
        "row_number\n",
        "rank\n",
        "percent_rank\n",
        "dense_rank\n",
        "ntile\n",
        "\n",
        "2/ Аналитические\n",
        "lag\n",
        "lead\n",
        "cume_dist\n",
        "nth_value\n",
        "\n",
        "3/ Аггрегирущие\n",
        "min\n",
        "max\n",
        "count\n",
        "std\n"
      ],
      "metadata": {
        "id": "Aj84Ic1fI1Sz"
      },
      "execution_count": null,
      "outputs": []
    },
    {
      "cell_type": "code",
      "source": [
        "from pyspark.sql.window import Window\n",
        "from pyspark.sql.functions import cume_dist\n",
        "\n",
        "# Определение спецификации окна\n",
        "windowSpec = Window.partitionBy(\"course\").orderBy(\"income\")\n",
        "\n",
        "# Применение оконной функции cume_dist к DataFrame\n",
        "df1.withColumn(\"cume_dist\", cume_dist().over(windowSpec)).show()\n"
      ],
      "metadata": {
        "id": "6lMihD1mL9uo"
      },
      "execution_count": null,
      "outputs": []
    },
    {
      "cell_type": "code",
      "source": [
        "1. PartitionBy()\n",
        "2. OrderBy()\n",
        "3. rowsBetweens(start, end)\n",
        "4. rangeBetwen(start, end)\n",
        "\n",
        "Window.unbdoudedPreceding, Window.unboudedFolliwing, Window.currentRow"
      ],
      "metadata": {
        "id": "KJAtts-JMRc7"
      },
      "execution_count": null,
      "outputs": []
    },
    {
      "cell_type": "code",
      "source": [
        "from pyspark.sql.window import Window\n",
        "\n",
        "# Определение окна с разделением на партиции по столбцу \"country\" и сортировкой по столбцу \"date\"\n",
        "window = Window.partitionBy(\"country\").orderBy(\"date\")\n",
        "\n",
        "# Определение окна с границами, охватывающими строки от начала до текущей строки\n",
        "window = Window.orderBy(\"date\").rowsBetween(Window.unboundedPreceding, Window.currentRow)\n",
        "\n",
        "# Определение окна с границами, охватывающими строки от 3 строк до текущей строки\n",
        "window = Window.orderBy(\"date\").rowsBetween(-3, Window.currentRow)\n",
        "\n",
        "# Определение окна с границами, охватывающими строки от 3 строк до 3 строк после текущей строки\n",
        "window = Window.orderBy(\"date\").rowsBetween(-3, 3)\n"
      ],
      "metadata": {
        "id": "31PtOnIKNKT1"
      },
      "execution_count": null,
      "outputs": []
    },
    {
      "cell_type": "code",
      "source": [
        "1. Гибкость в анализе данных\n",
        "2. Сохранение идентичности иходнызх данных\n",
        "3. Поддержка сложных аналитических запросов\n",
        "4. Оптимизация по производительности\n",
        "5. Поддержка различых типов окон"
      ],
      "metadata": {
        "id": "LMIGEMt-N0c8"
      },
      "execution_count": null,
      "outputs": []
    },
    {
      "cell_type": "code",
      "source": [
        "from pyspark.sql.window import Window\n",
        "from pyspark.sql.functions import avg\n",
        "\n",
        "# Определение окна с разделением на партиции по столбцу \"department\" и сортировкой по столбцу \"salary\"\n",
        "windowSpec = Window.partitionBy(\"department\").orderBy(\"salary\")\n",
        "\n",
        "# Применение оконной функции avg с использованием rowsBetween\n",
        "df.withColumn(\"avg_salary\", avg(\"salary\").over(windowSpec.rowsBetween(Window.unboundedPreceding, Window.currentRow)))\n",
        "\n",
        "# Применение оконной функции avg с использованием rangeBetween\n",
        "df.withColumn(\"avg_salary_range\", avg(\"salary\").over(windowSpec.rangeBetween(Window.unboundedPreceding, 1000)))"
      ],
      "metadata": {
        "id": "SiWlO2DtPkOR"
      },
      "execution_count": null,
      "outputs": []
    },
    {
      "cell_type": "code",
      "source": [
        "rowsBetween(Window.currentRow, 1)\n",
        "rangeBetween(Window.currentRow, 1)"
      ],
      "metadata": {
        "id": "G7YUA0gMQHJ5"
      },
      "execution_count": null,
      "outputs": []
    },
    {
      "cell_type": "code",
      "source": [
        "from pyspark.sql import Window\n",
        "from pyspark.sql import functions as func\n",
        "\n",
        "# Определение окна с использованием rowsBetween\n",
        "window1 = Window.partitionBy(\"category\").orderBy(\"id\").rowsBetween(Window.currentRow, 1)\n",
        "\n",
        "# Определение окна с использованием rangeBetween\n",
        "window2 = Window.partitionBy(\"category\").orderBy(\"id\").rangeBetween(Window.currentRow, 1)\n",
        "\n",
        "# Применение оконных функций к DataFrame\n",
        "df.withColumn(\"sum_rows\", func.sum(\"id\").over(window1)) \\\n",
        " .withColumn(\"sum_range\", func.sum(\"id\").over(window2)) \\\n",
        " .show()"
      ],
      "metadata": {
        "id": "pleLLuQBQVl9"
      },
      "execution_count": null,
      "outputs": []
    },
    {
      "cell_type": "code",
      "source": [
        "!pip install pyspark >> None"
      ],
      "metadata": {
        "id": "-N5fselnRpms"
      },
      "execution_count": 3,
      "outputs": []
    },
    {
      "cell_type": "code",
      "source": [
        "import pyspark\n",
        "from pyspark.sql.functions import udf\n",
        "from pyspark.sql.types import IntegerType\n",
        "\n",
        "# Определение пользовательской функции\n",
        "def add_one(x):\n",
        "    return x + 1\n",
        "\n",
        "# Преобразование функции в UDF\n",
        "add_one_udf = udf(add_one, IntegerType())\n",
        "\n",
        "# Использование UDF в DataFrame\n",
        "df = pyspark.createDataFrame([(1,), (2,), (3,)], [\"value\"])\n",
        "df.withColumn(\"value_plus_one\", add_one_udf(df[\"value\"])).show()"
      ],
      "metadata": {
        "colab": {
          "base_uri": "https://localhost:8080/",
          "height": 193
        },
        "id": "fCixNnaAQm7t",
        "outputId": "f5421744-4dbd-4c0b-8036-e68997cf8010"
      },
      "execution_count": 8,
      "outputs": [
        {
          "output_type": "error",
          "ename": "AttributeError",
          "evalue": "module 'pyspark' has no attribute 'createDataFrame'",
          "traceback": [
            "\u001b[0;31m---------------------------------------------------------------------------\u001b[0m",
            "\u001b[0;31mAttributeError\u001b[0m                            Traceback (most recent call last)",
            "\u001b[0;32m<ipython-input-8-d5f9cff3ae98>\u001b[0m in \u001b[0;36m<cell line: 13>\u001b[0;34m()\u001b[0m\n\u001b[1;32m     11\u001b[0m \u001b[0;34m\u001b[0m\u001b[0m\n\u001b[1;32m     12\u001b[0m \u001b[0;31m# Использование UDF в DataFrame\u001b[0m\u001b[0;34m\u001b[0m\u001b[0;34m\u001b[0m\u001b[0m\n\u001b[0;32m---> 13\u001b[0;31m \u001b[0mdf\u001b[0m \u001b[0;34m=\u001b[0m \u001b[0mpyspark\u001b[0m\u001b[0;34m.\u001b[0m\u001b[0mcreateDataFrame\u001b[0m\u001b[0;34m(\u001b[0m\u001b[0;34m[\u001b[0m\u001b[0;34m(\u001b[0m\u001b[0;36m1\u001b[0m\u001b[0;34m,\u001b[0m\u001b[0;34m)\u001b[0m\u001b[0;34m,\u001b[0m \u001b[0;34m(\u001b[0m\u001b[0;36m2\u001b[0m\u001b[0;34m,\u001b[0m\u001b[0;34m)\u001b[0m\u001b[0;34m,\u001b[0m \u001b[0;34m(\u001b[0m\u001b[0;36m3\u001b[0m\u001b[0;34m,\u001b[0m\u001b[0;34m)\u001b[0m\u001b[0;34m]\u001b[0m\u001b[0;34m,\u001b[0m \u001b[0;34m[\u001b[0m\u001b[0;34m\"value\"\u001b[0m\u001b[0;34m]\u001b[0m\u001b[0;34m)\u001b[0m\u001b[0;34m\u001b[0m\u001b[0;34m\u001b[0m\u001b[0m\n\u001b[0m\u001b[1;32m     14\u001b[0m \u001b[0mdf\u001b[0m\u001b[0;34m.\u001b[0m\u001b[0mwithColumn\u001b[0m\u001b[0;34m(\u001b[0m\u001b[0;34m\"value_plus_one\"\u001b[0m\u001b[0;34m,\u001b[0m \u001b[0madd_one_udf\u001b[0m\u001b[0;34m(\u001b[0m\u001b[0mdf\u001b[0m\u001b[0;34m[\u001b[0m\u001b[0;34m\"value\"\u001b[0m\u001b[0;34m]\u001b[0m\u001b[0;34m)\u001b[0m\u001b[0;34m)\u001b[0m\u001b[0;34m.\u001b[0m\u001b[0mshow\u001b[0m\u001b[0;34m(\u001b[0m\u001b[0;34m)\u001b[0m\u001b[0;34m\u001b[0m\u001b[0;34m\u001b[0m\u001b[0m\n",
            "\u001b[0;31mAttributeError\u001b[0m: module 'pyspark' has no attribute 'createDataFrame'"
          ]
        }
      ]
    },
    {
      "cell_type": "code",
      "source": [
        "1. IntergerType\n",
        "2. DoubleType\n",
        "3. StringType\n",
        "4. BooleanType\n",
        "5. ArrayType\n",
        "6. MapType\n",
        "7. StructType"
      ],
      "metadata": {
        "id": "9lMKrioXRNcj"
      },
      "execution_count": null,
      "outputs": []
    },
    {
      "cell_type": "code",
      "source": [
        "1. udf\n",
        "2. registrUDF\n",
        "3. unregistUDF"
      ],
      "metadata": {
        "id": "QPe5JIquSOMt"
      },
      "execution_count": null,
      "outputs": []
    },
    {
      "cell_type": "code",
      "source": [
        "from pyspark.sql.functions import udf\n",
        "from pyspark.sql.types import IntegerType\n",
        "\n",
        "# Определение пользовательской функции\n",
        "def add_one(x):\n",
        "    return x + 1\n",
        "\n",
        "# Преобразование функции в UDF\n",
        "add_one_udf = udf(add_one, IntegerType())\n",
        "\n",
        "# Использование UDF в DataFrame\n",
        "df = spark.createDataFrame([(1,), (2,), (3,)], [\"value\"])\n",
        "df.withColumn(\"value_plus_one\", add_one_udf(df[\"value\"])).show()"
      ],
      "metadata": {
        "id": "P1JhaDHbSlO4"
      },
      "execution_count": null,
      "outputs": []
    }
  ]
}