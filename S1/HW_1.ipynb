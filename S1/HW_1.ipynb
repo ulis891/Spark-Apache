{
  "nbformat": 4,
  "nbformat_minor": 0,
  "metadata": {
    "colab": {
      "provenance": []
    },
    "kernelspec": {
      "name": "python3",
      "display_name": "Python 3"
    },
    "language_info": {
      "name": "python"
    }
  },
  "cells": [
    {
      "cell_type": "markdown",
      "source": [
        "# Домашнее задание:\n",
        "\n",
        "## Условие:\n",
        "\n",
        "Найти самую длинную последовательность упорядоченных чисел в RDD и вывести её"
      ],
      "metadata": {
        "id": "rSdLxeyxKMpZ"
      }
    },
    {
      "cell_type": "code",
      "execution_count": null,
      "metadata": {
        "colab": {
          "base_uri": "https://localhost:8080/"
        },
        "id": "5ZkXA7c6Idya",
        "outputId": "28653bab-83f0-4aaa-d7bc-9de22199f748"
      },
      "outputs": [
        {
          "output_type": "stream",
          "name": "stdout",
          "text": [
            "Collecting pyspark\n",
            "  Downloading pyspark-3.5.1.tar.gz (317.0 MB)\n",
            "\u001b[2K     \u001b[90m━━━━━━━━━━━━━━━━━━━━━━━━━━━━━━━━━━━━━━━━\u001b[0m \u001b[32m317.0/317.0 MB\u001b[0m \u001b[31m3.0 MB/s\u001b[0m eta \u001b[36m0:00:00\u001b[0m\n",
            "\u001b[?25h  Preparing metadata (setup.py) ... \u001b[?25l\u001b[?25hdone\n",
            "Requirement already satisfied: py4j==0.10.9.7 in /usr/local/lib/python3.10/dist-packages (from pyspark) (0.10.9.7)\n",
            "Building wheels for collected packages: pyspark\n",
            "  Building wheel for pyspark (setup.py) ... \u001b[?25l\u001b[?25hdone\n",
            "  Created wheel for pyspark: filename=pyspark-3.5.1-py2.py3-none-any.whl size=317488491 sha256=2c8574f4df6ca4f8d9e9608cfeb93dd365bafad0534f3e8cff7c07617ffb0289\n",
            "  Stored in directory: /root/.cache/pip/wheels/80/1d/60/2c256ed38dddce2fdd93be545214a63e02fbd8d74fb0b7f3a6\n",
            "Successfully built pyspark\n",
            "Installing collected packages: pyspark\n",
            "Successfully installed pyspark-3.5.1\n"
          ]
        }
      ],
      "source": [
        "!pip install pyspark"
      ]
    },
    {
      "cell_type": "code",
      "source": [
        "import pyspark\n",
        "from pyspark import SparkContext\n",
        "from pyspark.sql import SparkSession"
      ],
      "metadata": {
        "id": "FDTZWd08Im0m"
      },
      "execution_count": null,
      "outputs": []
    },
    {
      "cell_type": "code",
      "source": [
        "sc = SparkContext('local', 'Longest Sequence Finder')\n",
        "rdd = sc.parallelize([\n",
        "    [1, 2, 3],\n",
        "    [4, 5, 6, 7],\n",
        "    [15, 5, 8, 4, 5, 6, 7],\n",
        "    [8, 9, 10, 11, 12]])\n",
        "\n",
        "# Функция для проверки, является ли список упорядоченным\n",
        "def is_sorted(lst):\n",
        "    return all(x <= y for x, y in zip(lst, lst[1:]))\n",
        "\n",
        "# Функция для получения самой длинной последовательности\n",
        "def find_longest_sequence(rdd):\n",
        "    sorted_rdd = rdd.map(lambda x: (len(x), x) if is_sorted(x) else (0, None))\n",
        "\n",
        "    # Находим максимальное значение длины среди упорядоченных последовательностей\n",
        "    max_length = sorted_rdd.reduce(lambda a, b: (max(a[0], b[0]), a[1] or b[1]))[0]\n",
        "\n",
        "    # Возвращаем самую длинную упорядоченную последовательность\n",
        "    return sorted_rdd.filter(lambda x: x[0] == max_length).first()[1]"
      ],
      "metadata": {
        "id": "5C_P9AHYJgZ9"
      },
      "execution_count": null,
      "outputs": []
    },
    {
      "cell_type": "code",
      "source": [
        "# Получаем самую длинную последовательность\n",
        "longest_sequence = find_longest_sequence(rdd)\n",
        "sc.stop()\n",
        "print(\"Самая длинная упорядоченная последовательность:\", longest_sequence)"
      ],
      "metadata": {
        "colab": {
          "base_uri": "https://localhost:8080/"
        },
        "id": "GZADDiDaKEUe",
        "outputId": "f9d47899-d565-4120-9795-3aa4b99cec3a"
      },
      "execution_count": null,
      "outputs": [
        {
          "output_type": "stream",
          "name": "stdout",
          "text": [
            "Самая длинная упорядоченная последовательность: [8, 9, 10, 11, 12]\n"
          ]
        }
      ]
    }
  ]
}