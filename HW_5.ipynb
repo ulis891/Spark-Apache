{
  "nbformat": 4,
  "nbformat_minor": 0,
  "metadata": {
    "colab": {
      "provenance": []
    },
    "kernelspec": {
      "name": "python3",
      "display_name": "Python 3"
    },
    "language_info": {
      "name": "python"
    }
  },
  "cells": [
    {
      "cell_type": "markdown",
      "source": [
        "#Урок 5. Spark on scala\n",
        "\n",
        "\n",
        "##Условие:\n",
        "- создайте csv файл с таким содержимым:\n",
        "\n",
        "```\n",
        "title,author,genre,sales,year\n",
        "\n",
        "\"1984\", \"George Orwell\", \"Science Fiction\", 5000, 1949\n",
        "\n",
        "\"The Lord of the Rings\", \"J.R.R. Tolkien\", \"Fantasy\", 3000, 1954\n",
        "\n",
        "\"To Kill a Mockingbird\", \"Harper Lee\", \"Southern Gothic\", 4000, 1960\n",
        "\n",
        "\"The Catcher in the Rye\", \"J.D. Salinger\", \"Novel\", 2000, 1951\n",
        "\n",
        "\"The Great Gatsby\", \"F. Scott Fitzgerald\", \"Novel\", 4500, 1925\n",
        "```\n",
        "##Задание:\n",
        "\n",
        "- Используя Spark прочитайте данные из файла csv.\n",
        "- Фильтруйте данные, чтобы оставить только книги, продажи которых превышают 3000 экземпляров.\n",
        "- Сгруппируйте данные по жанру и вычислите общий объем продаж для каждого жанра.\n",
        "- Отсортируйте данные по общему объему продаж в порядке убывания.\n",
        "- Выведите результаты на экран.\n",
        "\n"
      ],
      "metadata": {
        "id": "hmZRNDUIJJSf"
      }
    },
    {
      "cell_type": "code",
      "execution_count": 1,
      "metadata": {
        "id": "gHw3X0gAFDLj"
      },
      "outputs": [],
      "source": [
        "import csv"
      ]
    },
    {
      "cell_type": "code",
      "source": [
        "data = ([\"1984\", \"George Orwell\", \"Science Fiction\", 5000, 1949],\n",
        "[\"The Lord of the Rings\", \"J.R.R. Tolkien\", \"Fantasy\", 3000, 1954],\n",
        "[\"To Kill a Mockingbird\", \"Harper Lee\", \"Southern Gothic\", 4000, 1960],\n",
        "[\"The Catcher in the Rye\", \"J.D. Salinger\", \"Novel\", 2000, 1951],\n",
        "[\"The Great Gatsby\", \"F. Scott Fitzgerald\", \"Novel\", 4500, 1925])"
      ],
      "metadata": {
        "id": "G7XeC8jtFwuE"
      },
      "execution_count": 2,
      "outputs": []
    },
    {
      "cell_type": "code",
      "source": [
        "# создайте csv файла\n",
        "with open(\"books.csv\", mode=\"w\", encoding='utf-8') as data_file:\n",
        "    file_writer = csv.writer(data_file, delimiter = \",\", lineterminator=\"\\r\")\n",
        "    file_writer.writerow([\"title\",\"author\",\"genre\",\"sales\",\"year\"])\n",
        "    for book in data:\n",
        "        file_writer.writerow(book)"
      ],
      "metadata": {
        "id": "7dJa3ct7Fwwh"
      },
      "execution_count": 3,
      "outputs": []
    },
    {
      "cell_type": "code",
      "source": [
        "!pip install pyspark"
      ],
      "metadata": {
        "colab": {
          "base_uri": "https://localhost:8080/"
        },
        "id": "yqGbxZkYKvpZ",
        "outputId": "6a757df8-c80c-4432-f993-c512ebd5a821"
      },
      "execution_count": 4,
      "outputs": [
        {
          "output_type": "stream",
          "name": "stdout",
          "text": [
            "Requirement already satisfied: pyspark in /usr/local/lib/python3.10/dist-packages (3.5.1)\n",
            "Requirement already satisfied: py4j==0.10.9.7 in /usr/local/lib/python3.10/dist-packages (from pyspark) (0.10.9.7)\n"
          ]
        }
      ]
    },
    {
      "cell_type": "code",
      "source": [
        "import pyspark\n",
        "from pyspark import SparkContext, SparkConf\n",
        "from pyspark.sql import SparkSession"
      ],
      "metadata": {
        "id": "em909qNwFwkY"
      },
      "execution_count": 9,
      "outputs": []
    },
    {
      "cell_type": "code",
      "source": [
        "conf = SparkConf().setAppName(\"Books\")\n",
        "sc = SparkContext(conf=conf)\n",
        "spark = SparkSession.builder.getOrCreate()"
      ],
      "metadata": {
        "id": "YuwxAZfCFwrJ"
      },
      "execution_count": 10,
      "outputs": []
    },
    {
      "cell_type": "code",
      "source": [
        "# Используя Spark прочитайте данные из файла csv\n",
        "csv_file =  \"/content/books.csv\"\n",
        "df = spark.read.csv(csv_file, header=True, inferSchema=True)\n",
        "df.show()"
      ],
      "metadata": {
        "colab": {
          "base_uri": "https://localhost:8080/"
        },
        "id": "eNkg04ByFwzI",
        "outputId": "604c8269-9ae6-45c7-cea2-f02dd8526eb6"
      },
      "execution_count": 11,
      "outputs": [
        {
          "output_type": "stream",
          "name": "stdout",
          "text": [
            "+--------------------+-------------------+---------------+-----+----+\n",
            "|               title|             author|          genre|sales|year|\n",
            "+--------------------+-------------------+---------------+-----+----+\n",
            "|                1984|      George Orwell|Science Fiction| 5000|1949|\n",
            "|The Lord of the R...|     J.R.R. Tolkien|        Fantasy| 3000|1954|\n",
            "|To Kill a Mocking...|         Harper Lee|Southern Gothic| 4000|1960|\n",
            "|The Catcher in th...|      J.D. Salinger|          Novel| 2000|1951|\n",
            "|    The Great Gatsby|F. Scott Fitzgerald|          Novel| 4500|1925|\n",
            "+--------------------+-------------------+---------------+-----+----+\n",
            "\n"
          ]
        }
      ]
    },
    {
      "cell_type": "code",
      "source": [
        "# Фильтруйте данные, чтобы оставить только книги, продажи которых превышают 3000 экземпляров\n",
        "filteredDF = df.filter(df.sales > 3000)\n",
        "filteredDF.show()"
      ],
      "metadata": {
        "colab": {
          "base_uri": "https://localhost:8080/"
        },
        "id": "Dp_wzg8NNPEI",
        "outputId": "c0e53f03-2691-493a-d3b2-05012b92c382"
      },
      "execution_count": 12,
      "outputs": [
        {
          "output_type": "stream",
          "name": "stdout",
          "text": [
            "+--------------------+-------------------+---------------+-----+----+\n",
            "|               title|             author|          genre|sales|year|\n",
            "+--------------------+-------------------+---------------+-----+----+\n",
            "|                1984|      George Orwell|Science Fiction| 5000|1949|\n",
            "|To Kill a Mocking...|         Harper Lee|Southern Gothic| 4000|1960|\n",
            "|    The Great Gatsby|F. Scott Fitzgerald|          Novel| 4500|1925|\n",
            "+--------------------+-------------------+---------------+-----+----+\n",
            "\n"
          ]
        }
      ]
    },
    {
      "cell_type": "code",
      "source": [
        "# Сгруппируйте данные по жанру и вычислите общий объем продаж для каждого жанра\n",
        "grouped_df = df.groupBy(\"genre\").agg({\"sales\": \"sum\"})\n",
        "grouped_df.show()"
      ],
      "metadata": {
        "colab": {
          "base_uri": "https://localhost:8080/"
        },
        "id": "kaWt6VYhNxxK",
        "outputId": "a1372ce2-6a86-4753-8be7-1578ab7a06e0"
      },
      "execution_count": 27,
      "outputs": [
        {
          "output_type": "stream",
          "name": "stdout",
          "text": [
            "+---------------+----------+\n",
            "|          genre|sum(sales)|\n",
            "+---------------+----------+\n",
            "|Southern Gothic|      4000|\n",
            "|          Novel|      6500|\n",
            "|        Fantasy|      3000|\n",
            "|Science Fiction|      5000|\n",
            "+---------------+----------+\n",
            "\n"
          ]
        }
      ]
    },
    {
      "cell_type": "code",
      "source": [
        "# Отсортируйте данные по общему объему продаж в порядке убывания\n",
        "sorted_df = df.orderBy(df.sales, ascending=False)\n",
        "sorted_df.show()"
      ],
      "metadata": {
        "colab": {
          "base_uri": "https://localhost:8080/"
        },
        "id": "ehjiDGRJPeT_",
        "outputId": "886d510c-2cbd-4969-c178-1e5f9cad39fd"
      },
      "execution_count": 25,
      "outputs": [
        {
          "output_type": "stream",
          "name": "stdout",
          "text": [
            "+--------------------+-------------------+---------------+-----+----+\n",
            "|               title|             author|          genre|sales|year|\n",
            "+--------------------+-------------------+---------------+-----+----+\n",
            "|                1984|      George Orwell|Science Fiction| 5000|1949|\n",
            "|    The Great Gatsby|F. Scott Fitzgerald|          Novel| 4500|1925|\n",
            "|To Kill a Mocking...|         Harper Lee|Southern Gothic| 4000|1960|\n",
            "|The Lord of the R...|     J.R.R. Tolkien|        Fantasy| 3000|1954|\n",
            "|The Catcher in th...|      J.D. Salinger|          Novel| 2000|1951|\n",
            "+--------------------+-------------------+---------------+-----+----+\n",
            "\n"
          ]
        }
      ]
    }
  ]
}